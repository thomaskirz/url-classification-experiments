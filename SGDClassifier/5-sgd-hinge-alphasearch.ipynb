{
 "cells": [
  {
   "cell_type": "markdown",
   "source": [
    "# Summary\n",
    "* Very coarse alpha grid search\n",
    "* np.logspace(-7, 2, 10) (10 values between 1e-7 and 100)\n",
    "* Shows that alpha values around 1e-3 are best\n",
    "\n",
    "![Csearch0 graph](../img/results-5.png)"
   ],
   "metadata": {
    "collapsed": false,
    "pycharm": {
     "name": "#%% md\n"
    }
   }
  },
  {
   "cell_type": "markdown",
   "source": [
    "## Load Data"
   ],
   "metadata": {
    "collapsed": false,
    "pycharm": {
     "name": "#%% md\n"
    }
   }
  },
  {
   "cell_type": "code",
   "execution_count": 1,
   "metadata": {
    "pycharm": {
     "name": "#%%\n"
    }
   },
   "outputs": [],
   "source": [
    "import re\n",
    "import time\n",
    "import sys\n",
    "import warnings\n",
    "import os\n",
    "\n",
    "import numpy as np\n",
    "import pandas as pd\n",
    "import matplotlib.pyplot as plt\n",
    "\n",
    "import sklearn\n",
    "from IPython.core.display_functions import display\n",
    "from sklearn.feature_extraction.text import CountVectorizer\n",
    "from sklearn.model_selection import RandomizedSearchCV\n",
    "from sklearn.linear_model import SGDClassifier\n",
    "from sklearn.utils.fixes import loguniform\n",
    "from sklearn.utils import shuffle\n",
    "\n",
    "dataframe = pd.read_csv('../URL_Classification.csv', header=None)\n",
    "dataframe.columns = [\"index\", \"url\", \"label\"]"
   ]
  },
  {
   "cell_type": "markdown",
   "metadata": {
    "pycharm": {
     "name": "#%% md\n"
    }
   },
   "source": [
    "## Preprocessing"
   ]
  },
  {
   "cell_type": "code",
   "execution_count": 2,
   "metadata": {
    "pycharm": {
     "name": "#%%\n"
    }
   },
   "outputs": [],
   "source": [
    "dataframe['url'] = dataframe['url'].apply(lambda x: np.str_(x))"
   ]
  },
  {
   "cell_type": "markdown",
   "metadata": {
    "pycharm": {
     "name": "#%% md\n"
    }
   },
   "source": [
    "## Prepare labels"
   ]
  },
  {
   "cell_type": "code",
   "execution_count": 3,
   "metadata": {
    "pycharm": {
     "name": "#%%\n"
    }
   },
   "outputs": [],
   "source": [
    "labels = list(set(dataframe['label']))\n",
    "labels.sort()\n",
    "label2id = {l: n for n, l in enumerate(labels)}\n",
    "dataframe['label'] = dataframe['label'].map(label2id)"
   ]
  },
  {
   "cell_type": "markdown",
   "metadata": {
    "pycharm": {
     "name": "#%% md\n"
    }
   },
   "source": [
    "## Transform with count vectorizer"
   ]
  },
  {
   "cell_type": "code",
   "execution_count": 4,
   "metadata": {
    "pycharm": {
     "name": "#%%\n"
    }
   },
   "outputs": [],
   "source": [
    "count_vectorizer = CountVectorizer(analyzer='char_wb', ngram_range=(5, 5))\n",
    "X = count_vectorizer.fit_transform(dataframe['url'])\n",
    "y = dataframe['label'].values\n",
    "\n",
    "X, y = shuffle(X, y)"
   ]
  },
  {
   "cell_type": "markdown",
   "metadata": {
    "pycharm": {
     "name": "#%% md\n"
    }
   },
   "source": [
    "## Optimize alpha parameter with grid search"
   ]
  },
  {
   "cell_type": "code",
   "execution_count": 6,
   "metadata": {
    "pycharm": {
     "name": "#%%\n"
    }
   },
   "outputs": [
    {
     "name": "stdout",
     "output_type": "stream",
     "text": [
      "\n",
      "CV Time: 631.3058078289032\n"
     ]
    },
    {
     "data": {
      "text/plain": "{'alpha': 1e-05}"
     },
     "execution_count": 6,
     "metadata": {},
     "output_type": "execute_result"
    }
   ],
   "source": [
    "sgd = sklearn.linear_model.SGDClassifier(class_weight='balanced', loss='hinge')\n",
    "\n",
    "dist = {'alpha': np.logspace(-7, 2, 10)}\n",
    "clf = RandomizedSearchCV(sgd, param_distributions=dist, random_state=67, n_jobs=4, cv=2)\n",
    "\n",
    "start = time.time()\n",
    "search = clf.fit(X, y)\n",
    "print(f'\\nCV Time: {time.time()-start}')\n",
    "search.best_params_"
   ]
  },
  {
   "cell_type": "markdown",
   "metadata": {
    "pycharm": {
     "name": "#%% md\n"
    }
   },
   "source": [
    "## Report results"
   ]
  },
  {
   "cell_type": "code",
   "execution_count": 7,
   "metadata": {
    "pycharm": {
     "name": "#%%\n"
    }
   },
   "outputs": [
    {
     "data": {
      "text/plain": "   mean_fit_time  std_fit_time  mean_score_time  std_score_time param_alpha  \\\n2     115.807221      0.593454         1.232720        0.038837     0.00001   \n1     182.415100      0.461442         1.260706        0.051676    0.000001   \n0     303.375145      0.086031         1.269047        0.025495         0.0   \n3      66.300714      1.012127         1.308877        0.017563      0.0001   \n4      48.522202      0.137385         1.296312        0.024154       0.001   \n5      47.461583      0.038690         1.327417        0.018899        0.01   \n6      42.717528      0.221520         1.317294        0.005594         0.1   \n7      43.858468      0.471256         1.286627        0.051133         1.0   \n9      42.167166      0.027986         0.863762        0.098098       100.0   \n8      52.209119      0.231095         1.208762        0.095846        10.0   \n\n              params  split0_test_score  split1_test_score  mean_test_score  \\\n2   {'alpha': 1e-05}           0.582418           0.585391         0.583905   \n1   {'alpha': 1e-06}           0.570481           0.570346         0.570414   \n0   {'alpha': 1e-07}           0.549634           0.559133         0.554383   \n3  {'alpha': 0.0001}           0.540281           0.551657         0.545969   \n4   {'alpha': 0.001}           0.511815           0.502994         0.507404   \n5    {'alpha': 0.01}           0.477142           0.466046         0.471594   \n6     {'alpha': 0.1}           0.460271           0.448409         0.454340   \n7     {'alpha': 1.0}           0.326023           0.329278         0.327650   \n9   {'alpha': 100.0}           0.234728           0.259058         0.246893   \n8    {'alpha': 10.0}           0.258194           0.202163         0.230179   \n\n   std_test_score  rank_test_score  \n2        0.001487                1  \n1        0.000068                2  \n0        0.004749                3  \n3        0.005688                4  \n4        0.004411                5  \n5        0.005548                6  \n6        0.005931                7  \n7        0.001628                8  \n9        0.012165                9  \n8        0.028016               10  ",
      "text/html": "<div>\n<style scoped>\n    .dataframe tbody tr th:only-of-type {\n        vertical-align: middle;\n    }\n\n    .dataframe tbody tr th {\n        vertical-align: top;\n    }\n\n    .dataframe thead th {\n        text-align: right;\n    }\n</style>\n<table border=\"1\" class=\"dataframe\">\n  <thead>\n    <tr style=\"text-align: right;\">\n      <th></th>\n      <th>mean_fit_time</th>\n      <th>std_fit_time</th>\n      <th>mean_score_time</th>\n      <th>std_score_time</th>\n      <th>param_alpha</th>\n      <th>params</th>\n      <th>split0_test_score</th>\n      <th>split1_test_score</th>\n      <th>mean_test_score</th>\n      <th>std_test_score</th>\n      <th>rank_test_score</th>\n    </tr>\n  </thead>\n  <tbody>\n    <tr>\n      <th>2</th>\n      <td>115.807221</td>\n      <td>0.593454</td>\n      <td>1.232720</td>\n      <td>0.038837</td>\n      <td>0.00001</td>\n      <td>{'alpha': 1e-05}</td>\n      <td>0.582418</td>\n      <td>0.585391</td>\n      <td>0.583905</td>\n      <td>0.001487</td>\n      <td>1</td>\n    </tr>\n    <tr>\n      <th>1</th>\n      <td>182.415100</td>\n      <td>0.461442</td>\n      <td>1.260706</td>\n      <td>0.051676</td>\n      <td>0.000001</td>\n      <td>{'alpha': 1e-06}</td>\n      <td>0.570481</td>\n      <td>0.570346</td>\n      <td>0.570414</td>\n      <td>0.000068</td>\n      <td>2</td>\n    </tr>\n    <tr>\n      <th>0</th>\n      <td>303.375145</td>\n      <td>0.086031</td>\n      <td>1.269047</td>\n      <td>0.025495</td>\n      <td>0.0</td>\n      <td>{'alpha': 1e-07}</td>\n      <td>0.549634</td>\n      <td>0.559133</td>\n      <td>0.554383</td>\n      <td>0.004749</td>\n      <td>3</td>\n    </tr>\n    <tr>\n      <th>3</th>\n      <td>66.300714</td>\n      <td>1.012127</td>\n      <td>1.308877</td>\n      <td>0.017563</td>\n      <td>0.0001</td>\n      <td>{'alpha': 0.0001}</td>\n      <td>0.540281</td>\n      <td>0.551657</td>\n      <td>0.545969</td>\n      <td>0.005688</td>\n      <td>4</td>\n    </tr>\n    <tr>\n      <th>4</th>\n      <td>48.522202</td>\n      <td>0.137385</td>\n      <td>1.296312</td>\n      <td>0.024154</td>\n      <td>0.001</td>\n      <td>{'alpha': 0.001}</td>\n      <td>0.511815</td>\n      <td>0.502994</td>\n      <td>0.507404</td>\n      <td>0.004411</td>\n      <td>5</td>\n    </tr>\n    <tr>\n      <th>5</th>\n      <td>47.461583</td>\n      <td>0.038690</td>\n      <td>1.327417</td>\n      <td>0.018899</td>\n      <td>0.01</td>\n      <td>{'alpha': 0.01}</td>\n      <td>0.477142</td>\n      <td>0.466046</td>\n      <td>0.471594</td>\n      <td>0.005548</td>\n      <td>6</td>\n    </tr>\n    <tr>\n      <th>6</th>\n      <td>42.717528</td>\n      <td>0.221520</td>\n      <td>1.317294</td>\n      <td>0.005594</td>\n      <td>0.1</td>\n      <td>{'alpha': 0.1}</td>\n      <td>0.460271</td>\n      <td>0.448409</td>\n      <td>0.454340</td>\n      <td>0.005931</td>\n      <td>7</td>\n    </tr>\n    <tr>\n      <th>7</th>\n      <td>43.858468</td>\n      <td>0.471256</td>\n      <td>1.286627</td>\n      <td>0.051133</td>\n      <td>1.0</td>\n      <td>{'alpha': 1.0}</td>\n      <td>0.326023</td>\n      <td>0.329278</td>\n      <td>0.327650</td>\n      <td>0.001628</td>\n      <td>8</td>\n    </tr>\n    <tr>\n      <th>9</th>\n      <td>42.167166</td>\n      <td>0.027986</td>\n      <td>0.863762</td>\n      <td>0.098098</td>\n      <td>100.0</td>\n      <td>{'alpha': 100.0}</td>\n      <td>0.234728</td>\n      <td>0.259058</td>\n      <td>0.246893</td>\n      <td>0.012165</td>\n      <td>9</td>\n    </tr>\n    <tr>\n      <th>8</th>\n      <td>52.209119</td>\n      <td>0.231095</td>\n      <td>1.208762</td>\n      <td>0.095846</td>\n      <td>10.0</td>\n      <td>{'alpha': 10.0}</td>\n      <td>0.258194</td>\n      <td>0.202163</td>\n      <td>0.230179</td>\n      <td>0.028016</td>\n      <td>10</td>\n    </tr>\n  </tbody>\n</table>\n</div>"
     },
     "metadata": {},
     "output_type": "display_data"
    }
   ],
   "source": [
    "with pd.option_context('display.max_rows', None, 'display.max_columns', None):  # more options can be specified also\n",
    "    display(pd.DataFrame(clf.cv_results_).sort_values('rank_test_score'))"
   ]
  }
 ],
 "metadata": {
  "kernelspec": {
   "display_name": "Python 3 (ipykernel)",
   "language": "python",
   "name": "python3"
  },
  "language_info": {
   "codemirror_mode": {
    "name": "ipython",
    "version": 3
   },
   "file_extension": ".py",
   "mimetype": "text/x-python",
   "name": "python",
   "nbconvert_exporter": "python",
   "pygments_lexer": "ipython3",
   "version": "3.9.2"
  }
 },
 "nbformat": 4,
 "nbformat_minor": 1
}