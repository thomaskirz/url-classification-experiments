{
 "cells": [
  {
   "cell_type": "markdown",
   "source": [
    "![](../img/results-6.png)"
   ],
   "metadata": {
    "collapsed": false,
    "pycharm": {
     "name": "#%% md\n"
    }
   }
  },
  {
   "cell_type": "markdown",
   "source": [
    "## Load Data"
   ],
   "metadata": {
    "collapsed": false,
    "pycharm": {
     "name": "#%% md\n"
    }
   }
  },
  {
   "cell_type": "code",
   "execution_count": 7,
   "metadata": {
    "pycharm": {
     "name": "#%%\n"
    }
   },
   "outputs": [],
   "source": [
    "import re\n",
    "import time\n",
    "import sys\n",
    "import warnings\n",
    "import os\n",
    "\n",
    "import numpy as np\n",
    "import pandas as pd\n",
    "import matplotlib.pyplot as plt\n",
    "\n",
    "import sklearn\n",
    "from IPython.core.display_functions import display\n",
    "from sklearn.feature_extraction.text import CountVectorizer\n",
    "from sklearn.model_selection import RandomizedSearchCV\n",
    "from sklearn.linear_model import SGDClassifier\n",
    "from sklearn.utils.fixes import loguniform\n",
    "from sklearn.utils import shuffle\n",
    "\n",
    "dataframe = pd.read_csv('../URL_Classification.csv', header=None)\n",
    "dataframe.columns = [\"index\", \"url\", \"label\"]"
   ]
  },
  {
   "cell_type": "markdown",
   "metadata": {
    "pycharm": {
     "name": "#%% md\n"
    }
   },
   "source": [
    "## Preprocessing"
   ]
  },
  {
   "cell_type": "code",
   "execution_count": 8,
   "metadata": {
    "pycharm": {
     "name": "#%%\n"
    }
   },
   "outputs": [],
   "source": [
    "dataframe['url'] = dataframe['url'].apply(lambda x: np.str_(x))"
   ]
  },
  {
   "cell_type": "markdown",
   "metadata": {
    "pycharm": {
     "name": "#%% md\n"
    }
   },
   "source": [
    "## Prepare labels"
   ]
  },
  {
   "cell_type": "code",
   "execution_count": 9,
   "metadata": {
    "pycharm": {
     "name": "#%%\n"
    }
   },
   "outputs": [],
   "source": [
    "labels = set(dataframe['label'])\n",
    "label2id = {l: n for n, l in enumerate(labels)}\n",
    "dataframe['label'] = dataframe['label'].map(label2id)"
   ]
  },
  {
   "cell_type": "markdown",
   "metadata": {
    "pycharm": {
     "name": "#%% md\n"
    }
   },
   "source": [
    "## Transform with count vectorizer"
   ]
  },
  {
   "cell_type": "code",
   "execution_count": 10,
   "metadata": {
    "pycharm": {
     "name": "#%%\n"
    }
   },
   "outputs": [],
   "source": [
    "count_vectorizer = CountVectorizer(analyzer='char_wb', ngram_range=(5, 5))\n",
    "X = count_vectorizer.fit_transform(dataframe['url'])\n",
    "y = dataframe['label'].values\n",
    "\n",
    "X, y = shuffle(X, y)"
   ]
  },
  {
   "cell_type": "markdown",
   "metadata": {
    "pycharm": {
     "name": "#%% md\n"
    }
   },
   "source": [
    "## Optimize alpha parameter with RandomizedSearchCV"
   ]
  },
  {
   "cell_type": "code",
   "execution_count": 11,
   "metadata": {
    "pycharm": {
     "name": "#%%\n"
    }
   },
   "outputs": [
    {
     "name": "stdout",
     "output_type": "stream",
     "text": [
      "\n",
      "CV Time: 3666.119060754776\n"
     ]
    },
    {
     "data": {
      "text/plain": "{'alpha': 7.770699994117932e-06}"
     },
     "execution_count": 11,
     "metadata": {},
     "output_type": "execute_result"
    }
   ],
   "source": [
    "if not sys.warnoptions:\n",
    "    warnings.simplefilter(\"ignore\")\n",
    "    os.environ[\"PYTHONWARNINGS\"] = \"ignore\" # Also affect subprocesses\n",
    "\n",
    "\n",
    "sgd = sklearn.linear_model.SGDClassifier(class_weight='balanced', loss='hinge')\n",
    "\n",
    "dist = {'alpha': loguniform(1e-7, 1e-1)}\n",
    "clf = RandomizedSearchCV(sgd, param_distributions=dist, random_state=67, n_jobs=5, n_iter=15)\n",
    "\n",
    "start = time.time()\n",
    "search = clf.fit(X, y)\n",
    "print(f'\\nCV Time: {time.time()-start}')\n",
    "search.best_params_"
   ]
  },
  {
   "cell_type": "markdown",
   "metadata": {
    "pycharm": {
     "name": "#%% md\n"
    }
   },
   "source": [
    "## Report results"
   ]
  },
  {
   "cell_type": "code",
   "execution_count": 12,
   "metadata": {
    "pycharm": {
     "name": "#%%\n"
    }
   },
   "outputs": [
    {
     "data": {
      "text/plain": "    mean_fit_time  std_fit_time  mean_score_time  std_score_time param_alpha  \\\n13     235.930036      2.405631         0.711817        0.066934    0.000008   \n12     292.163019      5.310945         0.731848        0.055272    0.000003   \n6      335.047672      5.145472         0.706333        0.060668    0.000002   \n14     361.120756     12.733088         0.563524        0.113310    0.000001   \n3      227.537132      2.086969         0.639314        0.088997     0.00001   \n5      184.642176      2.046200         0.734686        0.009862    0.000021   \n9      569.036506     10.609288         0.716230        0.032374         0.0   \n4      545.368271     10.167325         0.727081        0.009108         0.0   \n0      121.704034      2.007659         0.622915        0.114333    0.000188   \n11     107.330365      2.540575         0.730925        0.008134    0.000356   \n2      105.202387      1.366390         0.635635        0.040498    0.001304   \n8      105.368967      1.306470         0.685940        0.058610    0.002172   \n10      94.375168      1.884548         0.711019        0.014978     0.00847   \n1       90.939704      1.210861         0.658641        0.080909    0.014228   \n7       89.312495      1.113535         0.713570        0.055570    0.039359   \n\n                               params  split0_test_score  split1_test_score  \\\n13   {'alpha': 7.770699994117932e-06}           0.590471           0.596089   \n12  {'alpha': 3.2540861791745958e-06}           0.600488           0.598917   \n6   {'alpha': 1.9006368801574431e-06}           0.595667           0.593629   \n14  {'alpha': 1.3397634743642556e-06}           0.593587           0.587995   \n3    {'alpha': 9.762272497212736e-06}           0.578853           0.590081   \n5    {'alpha': 2.078101167061151e-05}           0.585746           0.588306   \n9    {'alpha': 1.911489162287619e-07}           0.574806           0.575116   \n4   {'alpha': 2.2908021253208054e-07}           0.575961           0.580897   \n0   {'alpha': 0.00018841200866151887}           0.542899           0.537771   \n11  {'alpha': 0.00035580905457201467}           0.539460           0.521488   \n2    {'alpha': 0.0013042340053544472}           0.498305           0.514747   \n8      {'alpha': 0.00217224993617838}           0.502588           0.498365   \n10    {'alpha': 0.008469642831035743}           0.477591           0.483858   \n1     {'alpha': 0.014227862634159776}           0.466708           0.467434   \n7      {'alpha': 0.03935862342423758}           0.462907           0.456573   \n\n    split2_test_score  split3_test_score  split4_test_score  mean_test_score  \\\n13           0.603795           0.597137           0.596324         0.596763   \n12           0.594397           0.586497           0.599722         0.596004   \n6            0.594083           0.592668           0.595838         0.594377   \n14           0.585385           0.597997           0.586353         0.590264   \n3            0.598495           0.587946           0.590448         0.589164   \n5            0.591159           0.562987           0.570962         0.579832   \n9            0.573078           0.580268           0.578157         0.576285   \n4            0.570340           0.578269           0.575243         0.576142   \n0            0.545218           0.547053           0.543675         0.543323   \n11           0.542652           0.548144           0.522775         0.534904   \n2            0.499373           0.499640           0.506118         0.503637   \n8            0.504651           0.499471           0.490782         0.499171   \n10           0.468295           0.478622           0.475657         0.476805   \n1            0.466391           0.470647           0.475763         0.469389   \n7            0.457939           0.457794           0.459844         0.459012   \n\n    std_test_score  rank_test_score  \n13        0.004238                1  \n12        0.005203                2  \n6         0.001214                3  \n14        0.004798                4  \n3         0.006283                5  \n5         0.010932                6  \n9         0.002577                7  \n4         0.003511                8  \n0         0.003119                9  \n11        0.010800               10  \n2         0.006200               11  \n8         0.004750               12  \n10        0.005048               13  \n1         0.003527               14  \n7         0.002211               15  ",
      "text/html": "<div>\n<style scoped>\n    .dataframe tbody tr th:only-of-type {\n        vertical-align: middle;\n    }\n\n    .dataframe tbody tr th {\n        vertical-align: top;\n    }\n\n    .dataframe thead th {\n        text-align: right;\n    }\n</style>\n<table border=\"1\" class=\"dataframe\">\n  <thead>\n    <tr style=\"text-align: right;\">\n      <th></th>\n      <th>mean_fit_time</th>\n      <th>std_fit_time</th>\n      <th>mean_score_time</th>\n      <th>std_score_time</th>\n      <th>param_alpha</th>\n      <th>params</th>\n      <th>split0_test_score</th>\n      <th>split1_test_score</th>\n      <th>split2_test_score</th>\n      <th>split3_test_score</th>\n      <th>split4_test_score</th>\n      <th>mean_test_score</th>\n      <th>std_test_score</th>\n      <th>rank_test_score</th>\n    </tr>\n  </thead>\n  <tbody>\n    <tr>\n      <th>13</th>\n      <td>235.930036</td>\n      <td>2.405631</td>\n      <td>0.711817</td>\n      <td>0.066934</td>\n      <td>0.000008</td>\n      <td>{'alpha': 7.770699994117932e-06}</td>\n      <td>0.590471</td>\n      <td>0.596089</td>\n      <td>0.603795</td>\n      <td>0.597137</td>\n      <td>0.596324</td>\n      <td>0.596763</td>\n      <td>0.004238</td>\n      <td>1</td>\n    </tr>\n    <tr>\n      <th>12</th>\n      <td>292.163019</td>\n      <td>5.310945</td>\n      <td>0.731848</td>\n      <td>0.055272</td>\n      <td>0.000003</td>\n      <td>{'alpha': 3.2540861791745958e-06}</td>\n      <td>0.600488</td>\n      <td>0.598917</td>\n      <td>0.594397</td>\n      <td>0.586497</td>\n      <td>0.599722</td>\n      <td>0.596004</td>\n      <td>0.005203</td>\n      <td>2</td>\n    </tr>\n    <tr>\n      <th>6</th>\n      <td>335.047672</td>\n      <td>5.145472</td>\n      <td>0.706333</td>\n      <td>0.060668</td>\n      <td>0.000002</td>\n      <td>{'alpha': 1.9006368801574431e-06}</td>\n      <td>0.595667</td>\n      <td>0.593629</td>\n      <td>0.594083</td>\n      <td>0.592668</td>\n      <td>0.595838</td>\n      <td>0.594377</td>\n      <td>0.001214</td>\n      <td>3</td>\n    </tr>\n    <tr>\n      <th>14</th>\n      <td>361.120756</td>\n      <td>12.733088</td>\n      <td>0.563524</td>\n      <td>0.113310</td>\n      <td>0.000001</td>\n      <td>{'alpha': 1.3397634743642556e-06}</td>\n      <td>0.593587</td>\n      <td>0.587995</td>\n      <td>0.585385</td>\n      <td>0.597997</td>\n      <td>0.586353</td>\n      <td>0.590264</td>\n      <td>0.004798</td>\n      <td>4</td>\n    </tr>\n    <tr>\n      <th>3</th>\n      <td>227.537132</td>\n      <td>2.086969</td>\n      <td>0.639314</td>\n      <td>0.088997</td>\n      <td>0.00001</td>\n      <td>{'alpha': 9.762272497212736e-06}</td>\n      <td>0.578853</td>\n      <td>0.590081</td>\n      <td>0.598495</td>\n      <td>0.587946</td>\n      <td>0.590448</td>\n      <td>0.589164</td>\n      <td>0.006283</td>\n      <td>5</td>\n    </tr>\n    <tr>\n      <th>5</th>\n      <td>184.642176</td>\n      <td>2.046200</td>\n      <td>0.734686</td>\n      <td>0.009862</td>\n      <td>0.000021</td>\n      <td>{'alpha': 2.078101167061151e-05}</td>\n      <td>0.585746</td>\n      <td>0.588306</td>\n      <td>0.591159</td>\n      <td>0.562987</td>\n      <td>0.570962</td>\n      <td>0.579832</td>\n      <td>0.010932</td>\n      <td>6</td>\n    </tr>\n    <tr>\n      <th>9</th>\n      <td>569.036506</td>\n      <td>10.609288</td>\n      <td>0.716230</td>\n      <td>0.032374</td>\n      <td>0.0</td>\n      <td>{'alpha': 1.911489162287619e-07}</td>\n      <td>0.574806</td>\n      <td>0.575116</td>\n      <td>0.573078</td>\n      <td>0.580268</td>\n      <td>0.578157</td>\n      <td>0.576285</td>\n      <td>0.002577</td>\n      <td>7</td>\n    </tr>\n    <tr>\n      <th>4</th>\n      <td>545.368271</td>\n      <td>10.167325</td>\n      <td>0.727081</td>\n      <td>0.009108</td>\n      <td>0.0</td>\n      <td>{'alpha': 2.2908021253208054e-07}</td>\n      <td>0.575961</td>\n      <td>0.580897</td>\n      <td>0.570340</td>\n      <td>0.578269</td>\n      <td>0.575243</td>\n      <td>0.576142</td>\n      <td>0.003511</td>\n      <td>8</td>\n    </tr>\n    <tr>\n      <th>0</th>\n      <td>121.704034</td>\n      <td>2.007659</td>\n      <td>0.622915</td>\n      <td>0.114333</td>\n      <td>0.000188</td>\n      <td>{'alpha': 0.00018841200866151887}</td>\n      <td>0.542899</td>\n      <td>0.537771</td>\n      <td>0.545218</td>\n      <td>0.547053</td>\n      <td>0.543675</td>\n      <td>0.543323</td>\n      <td>0.003119</td>\n      <td>9</td>\n    </tr>\n    <tr>\n      <th>11</th>\n      <td>107.330365</td>\n      <td>2.540575</td>\n      <td>0.730925</td>\n      <td>0.008134</td>\n      <td>0.000356</td>\n      <td>{'alpha': 0.00035580905457201467}</td>\n      <td>0.539460</td>\n      <td>0.521488</td>\n      <td>0.542652</td>\n      <td>0.548144</td>\n      <td>0.522775</td>\n      <td>0.534904</td>\n      <td>0.010800</td>\n      <td>10</td>\n    </tr>\n    <tr>\n      <th>2</th>\n      <td>105.202387</td>\n      <td>1.366390</td>\n      <td>0.635635</td>\n      <td>0.040498</td>\n      <td>0.001304</td>\n      <td>{'alpha': 0.0013042340053544472}</td>\n      <td>0.498305</td>\n      <td>0.514747</td>\n      <td>0.499373</td>\n      <td>0.499640</td>\n      <td>0.506118</td>\n      <td>0.503637</td>\n      <td>0.006200</td>\n      <td>11</td>\n    </tr>\n    <tr>\n      <th>8</th>\n      <td>105.368967</td>\n      <td>1.306470</td>\n      <td>0.685940</td>\n      <td>0.058610</td>\n      <td>0.002172</td>\n      <td>{'alpha': 0.00217224993617838}</td>\n      <td>0.502588</td>\n      <td>0.498365</td>\n      <td>0.504651</td>\n      <td>0.499471</td>\n      <td>0.490782</td>\n      <td>0.499171</td>\n      <td>0.004750</td>\n      <td>12</td>\n    </tr>\n    <tr>\n      <th>10</th>\n      <td>94.375168</td>\n      <td>1.884548</td>\n      <td>0.711019</td>\n      <td>0.014978</td>\n      <td>0.00847</td>\n      <td>{'alpha': 0.008469642831035743}</td>\n      <td>0.477591</td>\n      <td>0.483858</td>\n      <td>0.468295</td>\n      <td>0.478622</td>\n      <td>0.475657</td>\n      <td>0.476805</td>\n      <td>0.005048</td>\n      <td>13</td>\n    </tr>\n    <tr>\n      <th>1</th>\n      <td>90.939704</td>\n      <td>1.210861</td>\n      <td>0.658641</td>\n      <td>0.080909</td>\n      <td>0.014228</td>\n      <td>{'alpha': 0.014227862634159776}</td>\n      <td>0.466708</td>\n      <td>0.467434</td>\n      <td>0.466391</td>\n      <td>0.470647</td>\n      <td>0.475763</td>\n      <td>0.469389</td>\n      <td>0.003527</td>\n      <td>14</td>\n    </tr>\n    <tr>\n      <th>7</th>\n      <td>89.312495</td>\n      <td>1.113535</td>\n      <td>0.713570</td>\n      <td>0.055570</td>\n      <td>0.039359</td>\n      <td>{'alpha': 0.03935862342423758}</td>\n      <td>0.462907</td>\n      <td>0.456573</td>\n      <td>0.457939</td>\n      <td>0.457794</td>\n      <td>0.459844</td>\n      <td>0.459012</td>\n      <td>0.002211</td>\n      <td>15</td>\n    </tr>\n  </tbody>\n</table>\n</div>"
     },
     "metadata": {},
     "output_type": "display_data"
    }
   ],
   "source": [
    "with pd.option_context('display.max_rows', None, 'display.max_columns', None):  # more options can be specified also\n",
    "    display(pd.DataFrame(clf.cv_results_).sort_values('rank_test_score'))"
   ]
  }
 ],
 "metadata": {
  "kernelspec": {
   "display_name": "Python 3 (ipykernel)",
   "language": "python",
   "name": "python3"
  },
  "language_info": {
   "codemirror_mode": {
    "name": "ipython",
    "version": 3
   },
   "file_extension": ".py",
   "mimetype": "text/x-python",
   "name": "python",
   "nbconvert_exporter": "python",
   "pygments_lexer": "ipython3",
   "version": "3.9.2"
  }
 },
 "nbformat": 4,
 "nbformat_minor": 1
}