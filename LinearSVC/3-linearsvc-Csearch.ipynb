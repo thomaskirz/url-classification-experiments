{
 "cells": [
  {
   "cell_type": "markdown",
   "source": [
    "# Summary\n",
    "\n",
    "* loguniform(1e-5, 1) (20 values between 1e-5 and 1)\n",
    "* 3-fold CV\n",
    "* Best mean_test_score 60.86 % for C = 0.041124\n",
    "* Very similar to Csearch2\n",
    "\n",
    "![](../img/results-3.png)"
   ],
   "metadata": {
    "collapsed": false,
    "pycharm": {
     "name": "#%% md\n"
    }
   }
  },
  {
   "cell_type": "markdown",
   "source": [
    "## Load Data"
   ],
   "metadata": {
    "collapsed": false,
    "pycharm": {
     "name": "#%% md\n"
    }
   }
  },
  {
   "cell_type": "code",
   "execution_count": 8,
   "metadata": {
    "pycharm": {
     "name": "#%%\n"
    }
   },
   "outputs": [],
   "source": [
    "import re\n",
    "import time\n",
    "import sys\n",
    "import warnings\n",
    "import os\n",
    "\n",
    "import numpy as np\n",
    "import pandas as pd\n",
    "import matplotlib.pyplot as plt\n",
    "\n",
    "import sklearn\n",
    "from sklearn.feature_extraction.text import CountVectorizer\n",
    "from sklearn.model_selection import RandomizedSearchCV\n",
    "from sklearn.linear_model import SGDClassifier\n",
    "from sklearn.utils.fixes import loguniform\n",
    "from sklearn.utils import shuffle\n",
    "\n",
    "dataframe = pd.read_csv('../URL_Classification.csv', header=None)\n",
    "dataframe.columns = [\"index\", \"url\", \"label\"]"
   ]
  },
  {
   "cell_type": "markdown",
   "metadata": {
    "pycharm": {
     "name": "#%% md\n"
    }
   },
   "source": [
    "## Preprocessing"
   ]
  },
  {
   "cell_type": "code",
   "execution_count": 9,
   "metadata": {
    "pycharm": {
     "name": "#%%\n"
    }
   },
   "outputs": [],
   "source": [
    "dataframe['url'] = dataframe['url'].apply(lambda x: np.str_(x))"
   ]
  },
  {
   "cell_type": "markdown",
   "metadata": {
    "pycharm": {
     "name": "#%% md\n"
    }
   },
   "source": [
    "## Prepare labels"
   ]
  },
  {
   "cell_type": "code",
   "execution_count": 10,
   "metadata": {
    "pycharm": {
     "name": "#%%\n"
    }
   },
   "outputs": [],
   "source": [
    "labels = set(dataframe['label'])\n",
    "label2id = {l: n for n, l in enumerate(labels)}\n",
    "dataframe['label'] = dataframe['label'].map(label2id)"
   ]
  },
  {
   "cell_type": "markdown",
   "metadata": {
    "pycharm": {
     "name": "#%% md\n"
    }
   },
   "source": [
    "## Transform with count vectorizer"
   ]
  },
  {
   "cell_type": "code",
   "execution_count": 11,
   "metadata": {
    "pycharm": {
     "name": "#%%\n"
    }
   },
   "outputs": [],
   "source": [
    "count_vectorizer = CountVectorizer(analyzer='char_wb', ngram_range=(5, 5))\n",
    "X = count_vectorizer.fit_transform(dataframe['url'])\n",
    "y = dataframe['label'].values\n",
    "\n",
    "X, y = shuffle(X, y)"
   ]
  },
  {
   "cell_type": "markdown",
   "metadata": {
    "pycharm": {
     "name": "#%% md\n"
    }
   },
   "source": [
    "## Optimize alpha parameter with RandomizedSearchCV"
   ]
  },
  {
   "cell_type": "code",
   "execution_count": 12,
   "metadata": {
    "pycharm": {
     "name": "#%%\n"
    }
   },
   "outputs": [
    {
     "name": "stdout",
     "output_type": "stream",
     "text": [
      "Fitting 3 folds for each of 20 candidates, totalling 60 fits\n",
      "\n",
      "CV Time: 8950.783334970474\n"
     ]
    },
    {
     "data": {
      "text/plain": "{'C': 0.04112363485239494}"
     },
     "execution_count": 12,
     "metadata": {},
     "output_type": "execute_result"
    }
   ],
   "source": [
    "if not sys.warnoptions:\n",
    "    warnings.simplefilter(\"ignore\")\n",
    "    os.environ[\"PYTHONWARNINGS\"] = \"ignore\" # Also affect subprocesses\n",
    "\n",
    "\n",
    "clf = sklearn.svm.LinearSVC(class_weight='balanced')\n",
    "\n",
    "dist = {'C': loguniform(1e-5, 1)}\n",
    "clf = RandomizedSearchCV(clf, param_distributions=dist, random_state=67, n_jobs=6, n_iter=20, cv=3, verbose=1)\n",
    "\n",
    "start = time.time()\n",
    "search = clf.fit(X, y)\n",
    "print(f'\\nCV Time: {time.time()-start}')\n",
    "search.best_params_"
   ]
  },
  {
   "cell_type": "markdown",
   "metadata": {
    "pycharm": {
     "name": "#%% md\n"
    }
   },
   "source": [
    "## Report results"
   ]
  },
  {
   "cell_type": "code",
   "execution_count": 13,
   "metadata": {
    "pycharm": {
     "name": "#%%\n"
    }
   },
   "outputs": [
    {
     "data": {
      "text/plain": "    mean_fit_time  std_fit_time  mean_score_time  std_score_time   param_C  \\\n8     1426.160846    115.616811         1.228910        0.014326  0.041124   \n2     1204.059535    111.948135         1.307985        0.153467  0.026882   \n10    2009.770576    161.261280         1.259174        0.065205  0.127807   \n11     766.186696    123.523448         1.220826        0.027182  0.009106   \n1     2690.843116    117.662147         1.469710        0.142566  0.196917   \n0      688.081980     35.673828         1.271856        0.053809  0.005361   \n7     3813.966674     32.559817         1.256428        0.133000  0.459762   \n19     312.641930      5.442985         0.710076        0.227305  0.001152   \n18     344.386584     12.789850         0.966202        0.197003  0.001117   \n5      338.532520     16.995659         1.259716        0.043064  0.000854   \n15     270.349100     20.177158         1.297792        0.138784  0.000564   \n3      273.431716     20.151238         1.180201        0.119200  0.000455   \n13     285.927541     20.875952         1.483104        0.169631  0.000376   \n16     236.744276     16.717435         1.379629        0.152224  0.000193   \n12     260.242526      4.958725         1.612496        0.126227  0.000182   \n6      240.576255      7.280178         1.328687        0.026951  0.000116   \n14     228.974942     27.334748         1.449937        0.201878  0.000087   \n4      237.782136     20.977707         1.223301        0.045149   0.00002   \n9      211.776350     20.111263         1.245515        0.065988  0.000017   \n17     225.652722     15.201932         1.223295        0.059697  0.000011   \n\n                           params  split0_test_score  split1_test_score  \\\n8      {'C': 0.04112363485239494}           0.607471           0.609757   \n2     {'C': 0.026882083938628135}           0.606782           0.608857   \n10     {'C': 0.12780688408174093}           0.601634           0.603413   \n11    {'C': 0.009106416221317432}           0.597077           0.599294   \n1      {'C': 0.19691692845736392}           0.596797           0.598465   \n0     {'C': 0.005361140014825926}           0.588789           0.590682   \n7       {'C': 0.4597621874459045}           0.584217           0.586639   \n19   {'C': 0.0011515220476982474}           0.551695           0.553919   \n18    {'C': 0.001116715513266136}           0.550850           0.553030   \n5    {'C': 0.0008538643965272543}           0.542687           0.544627   \n15   {'C': 0.0005644162841589309}           0.529335           0.530786   \n3   {'C': 0.00045494521864291676}           0.521224           0.523088   \n13    {'C': 0.000376169389224883}           0.513928           0.516255   \n16   {'C': 0.0001932920799880699}           0.487820           0.489429   \n12  {'C': 0.00018211995819534166}           0.485413           0.487106   \n6   {'C': 0.00011634542045495926}           0.466459           0.468377   \n14   {'C': 8.693408977543115e-05}           0.454367           0.456091   \n4   {'C': 1.9952147548384692e-05}           0.395531           0.395416   \n9   {'C': 1.7158389940111495e-05}           0.390274           0.390445   \n17  {'C': 1.1365029742416916e-05}           0.375865           0.375765   \n\n    split2_test_score  mean_test_score  std_test_score  rank_test_score  \n8            0.608819         0.608682        0.000938                1  \n2            0.607879         0.607839        0.000848                2  \n10           0.602570         0.602539        0.000727                3  \n11           0.597980         0.598117        0.000910                4  \n1            0.597349         0.597537        0.000694                5  \n0            0.589189         0.589553        0.000814                6  \n7            0.585187         0.585348        0.000995                7  \n19           0.552145         0.552586        0.000960                8  \n18           0.551289         0.551723        0.000942                9  \n5            0.543102         0.543472        0.000834               10  \n15           0.529156         0.529759        0.000730               11  \n3            0.521545         0.521952        0.000813               12  \n13           0.514591         0.514925        0.000979               13  \n16           0.488090         0.488446        0.000703               14  \n12           0.485706         0.486075        0.000739               15  \n6            0.467358         0.467398        0.000783               16  \n14           0.454957         0.455138        0.000715               17  \n4            0.396791         0.395913        0.000623               18  \n9            0.391684         0.390801        0.000628               19  \n17           0.376921         0.376184        0.000523               20  ",
      "text/html": "<div>\n<style scoped>\n    .dataframe tbody tr th:only-of-type {\n        vertical-align: middle;\n    }\n\n    .dataframe tbody tr th {\n        vertical-align: top;\n    }\n\n    .dataframe thead th {\n        text-align: right;\n    }\n</style>\n<table border=\"1\" class=\"dataframe\">\n  <thead>\n    <tr style=\"text-align: right;\">\n      <th></th>\n      <th>mean_fit_time</th>\n      <th>std_fit_time</th>\n      <th>mean_score_time</th>\n      <th>std_score_time</th>\n      <th>param_C</th>\n      <th>params</th>\n      <th>split0_test_score</th>\n      <th>split1_test_score</th>\n      <th>split2_test_score</th>\n      <th>mean_test_score</th>\n      <th>std_test_score</th>\n      <th>rank_test_score</th>\n    </tr>\n  </thead>\n  <tbody>\n    <tr>\n      <th>8</th>\n      <td>1426.160846</td>\n      <td>115.616811</td>\n      <td>1.228910</td>\n      <td>0.014326</td>\n      <td>0.041124</td>\n      <td>{'C': 0.04112363485239494}</td>\n      <td>0.607471</td>\n      <td>0.609757</td>\n      <td>0.608819</td>\n      <td>0.608682</td>\n      <td>0.000938</td>\n      <td>1</td>\n    </tr>\n    <tr>\n      <th>2</th>\n      <td>1204.059535</td>\n      <td>111.948135</td>\n      <td>1.307985</td>\n      <td>0.153467</td>\n      <td>0.026882</td>\n      <td>{'C': 0.026882083938628135}</td>\n      <td>0.606782</td>\n      <td>0.608857</td>\n      <td>0.607879</td>\n      <td>0.607839</td>\n      <td>0.000848</td>\n      <td>2</td>\n    </tr>\n    <tr>\n      <th>10</th>\n      <td>2009.770576</td>\n      <td>161.261280</td>\n      <td>1.259174</td>\n      <td>0.065205</td>\n      <td>0.127807</td>\n      <td>{'C': 0.12780688408174093}</td>\n      <td>0.601634</td>\n      <td>0.603413</td>\n      <td>0.602570</td>\n      <td>0.602539</td>\n      <td>0.000727</td>\n      <td>3</td>\n    </tr>\n    <tr>\n      <th>11</th>\n      <td>766.186696</td>\n      <td>123.523448</td>\n      <td>1.220826</td>\n      <td>0.027182</td>\n      <td>0.009106</td>\n      <td>{'C': 0.009106416221317432}</td>\n      <td>0.597077</td>\n      <td>0.599294</td>\n      <td>0.597980</td>\n      <td>0.598117</td>\n      <td>0.000910</td>\n      <td>4</td>\n    </tr>\n    <tr>\n      <th>1</th>\n      <td>2690.843116</td>\n      <td>117.662147</td>\n      <td>1.469710</td>\n      <td>0.142566</td>\n      <td>0.196917</td>\n      <td>{'C': 0.19691692845736392}</td>\n      <td>0.596797</td>\n      <td>0.598465</td>\n      <td>0.597349</td>\n      <td>0.597537</td>\n      <td>0.000694</td>\n      <td>5</td>\n    </tr>\n    <tr>\n      <th>0</th>\n      <td>688.081980</td>\n      <td>35.673828</td>\n      <td>1.271856</td>\n      <td>0.053809</td>\n      <td>0.005361</td>\n      <td>{'C': 0.005361140014825926}</td>\n      <td>0.588789</td>\n      <td>0.590682</td>\n      <td>0.589189</td>\n      <td>0.589553</td>\n      <td>0.000814</td>\n      <td>6</td>\n    </tr>\n    <tr>\n      <th>7</th>\n      <td>3813.966674</td>\n      <td>32.559817</td>\n      <td>1.256428</td>\n      <td>0.133000</td>\n      <td>0.459762</td>\n      <td>{'C': 0.4597621874459045}</td>\n      <td>0.584217</td>\n      <td>0.586639</td>\n      <td>0.585187</td>\n      <td>0.585348</td>\n      <td>0.000995</td>\n      <td>7</td>\n    </tr>\n    <tr>\n      <th>19</th>\n      <td>312.641930</td>\n      <td>5.442985</td>\n      <td>0.710076</td>\n      <td>0.227305</td>\n      <td>0.001152</td>\n      <td>{'C': 0.0011515220476982474}</td>\n      <td>0.551695</td>\n      <td>0.553919</td>\n      <td>0.552145</td>\n      <td>0.552586</td>\n      <td>0.000960</td>\n      <td>8</td>\n    </tr>\n    <tr>\n      <th>18</th>\n      <td>344.386584</td>\n      <td>12.789850</td>\n      <td>0.966202</td>\n      <td>0.197003</td>\n      <td>0.001117</td>\n      <td>{'C': 0.001116715513266136}</td>\n      <td>0.550850</td>\n      <td>0.553030</td>\n      <td>0.551289</td>\n      <td>0.551723</td>\n      <td>0.000942</td>\n      <td>9</td>\n    </tr>\n    <tr>\n      <th>5</th>\n      <td>338.532520</td>\n      <td>16.995659</td>\n      <td>1.259716</td>\n      <td>0.043064</td>\n      <td>0.000854</td>\n      <td>{'C': 0.0008538643965272543}</td>\n      <td>0.542687</td>\n      <td>0.544627</td>\n      <td>0.543102</td>\n      <td>0.543472</td>\n      <td>0.000834</td>\n      <td>10</td>\n    </tr>\n    <tr>\n      <th>15</th>\n      <td>270.349100</td>\n      <td>20.177158</td>\n      <td>1.297792</td>\n      <td>0.138784</td>\n      <td>0.000564</td>\n      <td>{'C': 0.0005644162841589309}</td>\n      <td>0.529335</td>\n      <td>0.530786</td>\n      <td>0.529156</td>\n      <td>0.529759</td>\n      <td>0.000730</td>\n      <td>11</td>\n    </tr>\n    <tr>\n      <th>3</th>\n      <td>273.431716</td>\n      <td>20.151238</td>\n      <td>1.180201</td>\n      <td>0.119200</td>\n      <td>0.000455</td>\n      <td>{'C': 0.00045494521864291676}</td>\n      <td>0.521224</td>\n      <td>0.523088</td>\n      <td>0.521545</td>\n      <td>0.521952</td>\n      <td>0.000813</td>\n      <td>12</td>\n    </tr>\n    <tr>\n      <th>13</th>\n      <td>285.927541</td>\n      <td>20.875952</td>\n      <td>1.483104</td>\n      <td>0.169631</td>\n      <td>0.000376</td>\n      <td>{'C': 0.000376169389224883}</td>\n      <td>0.513928</td>\n      <td>0.516255</td>\n      <td>0.514591</td>\n      <td>0.514925</td>\n      <td>0.000979</td>\n      <td>13</td>\n    </tr>\n    <tr>\n      <th>16</th>\n      <td>236.744276</td>\n      <td>16.717435</td>\n      <td>1.379629</td>\n      <td>0.152224</td>\n      <td>0.000193</td>\n      <td>{'C': 0.0001932920799880699}</td>\n      <td>0.487820</td>\n      <td>0.489429</td>\n      <td>0.488090</td>\n      <td>0.488446</td>\n      <td>0.000703</td>\n      <td>14</td>\n    </tr>\n    <tr>\n      <th>12</th>\n      <td>260.242526</td>\n      <td>4.958725</td>\n      <td>1.612496</td>\n      <td>0.126227</td>\n      <td>0.000182</td>\n      <td>{'C': 0.00018211995819534166}</td>\n      <td>0.485413</td>\n      <td>0.487106</td>\n      <td>0.485706</td>\n      <td>0.486075</td>\n      <td>0.000739</td>\n      <td>15</td>\n    </tr>\n    <tr>\n      <th>6</th>\n      <td>240.576255</td>\n      <td>7.280178</td>\n      <td>1.328687</td>\n      <td>0.026951</td>\n      <td>0.000116</td>\n      <td>{'C': 0.00011634542045495926}</td>\n      <td>0.466459</td>\n      <td>0.468377</td>\n      <td>0.467358</td>\n      <td>0.467398</td>\n      <td>0.000783</td>\n      <td>16</td>\n    </tr>\n    <tr>\n      <th>14</th>\n      <td>228.974942</td>\n      <td>27.334748</td>\n      <td>1.449937</td>\n      <td>0.201878</td>\n      <td>0.000087</td>\n      <td>{'C': 8.693408977543115e-05}</td>\n      <td>0.454367</td>\n      <td>0.456091</td>\n      <td>0.454957</td>\n      <td>0.455138</td>\n      <td>0.000715</td>\n      <td>17</td>\n    </tr>\n    <tr>\n      <th>4</th>\n      <td>237.782136</td>\n      <td>20.977707</td>\n      <td>1.223301</td>\n      <td>0.045149</td>\n      <td>0.00002</td>\n      <td>{'C': 1.9952147548384692e-05}</td>\n      <td>0.395531</td>\n      <td>0.395416</td>\n      <td>0.396791</td>\n      <td>0.395913</td>\n      <td>0.000623</td>\n      <td>18</td>\n    </tr>\n    <tr>\n      <th>9</th>\n      <td>211.776350</td>\n      <td>20.111263</td>\n      <td>1.245515</td>\n      <td>0.065988</td>\n      <td>0.000017</td>\n      <td>{'C': 1.7158389940111495e-05}</td>\n      <td>0.390274</td>\n      <td>0.390445</td>\n      <td>0.391684</td>\n      <td>0.390801</td>\n      <td>0.000628</td>\n      <td>19</td>\n    </tr>\n    <tr>\n      <th>17</th>\n      <td>225.652722</td>\n      <td>15.201932</td>\n      <td>1.223295</td>\n      <td>0.059697</td>\n      <td>0.000011</td>\n      <td>{'C': 1.1365029742416916e-05}</td>\n      <td>0.375865</td>\n      <td>0.375765</td>\n      <td>0.376921</td>\n      <td>0.376184</td>\n      <td>0.000523</td>\n      <td>20</td>\n    </tr>\n  </tbody>\n</table>\n</div>"
     },
     "execution_count": 13,
     "metadata": {},
     "output_type": "execute_result"
    }
   ],
   "source": [
    "pd.DataFrame(clf.cv_results_).sort_values('rank_test_score')"
   ]
  }
 ],
 "metadata": {
  "kernelspec": {
   "display_name": "Python 3 (ipykernel)",
   "language": "python",
   "name": "python3"
  },
  "language_info": {
   "codemirror_mode": {
    "name": "ipython",
    "version": 3
   },
   "file_extension": ".py",
   "mimetype": "text/x-python",
   "name": "python",
   "nbconvert_exporter": "python",
   "pygments_lexer": "ipython3",
   "version": "3.9.2"
  }
 },
 "nbformat": 4,
 "nbformat_minor": 1
}