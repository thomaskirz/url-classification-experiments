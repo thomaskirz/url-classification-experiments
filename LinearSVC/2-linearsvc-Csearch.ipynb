{
 "cells": [
  {
   "cell_type": "markdown",
   "source": [
    "# Summary\n",
    "\n",
    "* Alternative coarse grid search\n",
    "* np.logspace(-5, 2, 5) (5 values between 1e-5 and 100)\n",
    "* Shows best values seem to be in the order of [1e-3, 1]\n",
    "\n",
    "![](../img/results-2.png)"
   ],
   "metadata": {
    "collapsed": false,
    "pycharm": {
     "name": "#%% md\n"
    }
   }
  },
  {
   "cell_type": "markdown",
   "source": [
    "## Load Data"
   ],
   "metadata": {
    "collapsed": false,
    "pycharm": {
     "name": "#%% md\n"
    }
   }
  },
  {
   "cell_type": "code",
   "execution_count": null,
   "outputs": [],
   "source": [
    "import re\n",
    "import time\n",
    "import sys\n",
    "import warnings\n",
    "import os\n",
    "\n",
    "import numpy as np\n",
    "import pandas as pd\n",
    "import matplotlib.pyplot as plt\n",
    "\n",
    "import sklearn\n",
    "from sklearn.feature_extraction.text import CountVectorizer\n",
    "from sklearn.model_selection import RandomizedSearchCV, GridSearchCV\n",
    "from sklearn.linear_model import SGDClassifier\n",
    "from sklearn.utils.fixes import loguniform\n",
    "from sklearn.utils import shuffle\n",
    "\n",
    "dataframe = pd.read_csv('../URL_Classification.csv', header=None)\n",
    "dataframe.columns = [\"index\", \"url\", \"label\"]"
   ],
   "metadata": {
    "collapsed": false,
    "pycharm": {
     "name": "#%%\n"
    }
   }
  },
  {
   "cell_type": "markdown",
   "source": [
    "## Preprocessing"
   ],
   "metadata": {
    "collapsed": false,
    "pycharm": {
     "name": "#%% md\n"
    }
   }
  },
  {
   "cell_type": "code",
   "execution_count": null,
   "outputs": [],
   "source": [
    "dataframe['url'] = dataframe['url'].apply(lambda x: np.str_(x))"
   ],
   "metadata": {
    "collapsed": false,
    "pycharm": {
     "name": "#%%\n"
    }
   }
  },
  {
   "cell_type": "markdown",
   "source": [
    "## Prepare labels"
   ],
   "metadata": {
    "collapsed": false,
    "pycharm": {
     "name": "#%% md\n"
    }
   }
  },
  {
   "cell_type": "code",
   "execution_count": null,
   "outputs": [],
   "source": [
    "labels = list(set(dataframe['label']))\n",
    "labels.sort()\n",
    "label2id = {l: n for n, l in enumerate(labels)}\n",
    "dataframe['label'] = dataframe['label'].map(label2id)"
   ],
   "metadata": {
    "collapsed": false,
    "pycharm": {
     "name": "#%%\n"
    }
   }
  },
  {
   "cell_type": "markdown",
   "source": [
    "## Transform with count vectorizer"
   ],
   "metadata": {
    "collapsed": false,
    "pycharm": {
     "name": "#%% md\n"
    }
   }
  },
  {
   "cell_type": "code",
   "execution_count": null,
   "outputs": [],
   "source": [
    "count_vectorizer = CountVectorizer(analyzer='char_wb', ngram_range=(5, 5))\n",
    "X = count_vectorizer.fit_transform(dataframe['url'])\n",
    "y = dataframe['label'].values\n",
    "\n",
    "X, y = shuffle(X, y)"
   ],
   "metadata": {
    "collapsed": false,
    "pycharm": {
     "name": "#%%\n"
    }
   }
  },
  {
   "cell_type": "markdown",
   "source": [
    "## Optimize C parameter with GridSearchCV"
   ],
   "metadata": {
    "collapsed": false,
    "pycharm": {
     "name": "#%% md\n"
    }
   }
  },
  {
   "cell_type": "code",
   "execution_count": null,
   "outputs": [],
   "source": [
    "if not sys.warnoptions:\n",
    "    warnings.simplefilter(\"ignore\")\n",
    "    os.environ[\"PYTHONWARNINGS\"] = \"ignore\" # Also affect subprocesses\n",
    "\n",
    "\n",
    "clf = sklearn.svm.LinearSVC(class_weight='balanced')\n",
    "\n",
    "grid = {'C': np.logspace(-5, 2, 5)}\n",
    "clf = GridSearchCV(clf, param_grid=grid, n_jobs=5, cv=2, verbose=1)\n",
    "\n",
    "start = time.time()\n",
    "search = clf.fit(X, y)\n",
    "print(f'\\nCV Time: {time.time()-start}')\n",
    "search.best_params_"
   ],
   "metadata": {
    "collapsed": false,
    "pycharm": {
     "name": "#%%\n"
    }
   }
  },
  {
   "cell_type": "markdown",
   "metadata": {
    "pycharm": {
     "name": "#%% md\n"
    }
   },
   "source": [
    "## Report results"
   ]
  },
  {
   "cell_type": "code",
   "execution_count": 24,
   "metadata": {
    "pycharm": {
     "name": "#%%\n"
    }
   },
   "outputs": [
    {
     "data": {
      "text/plain": "   mean_fit_time  std_fit_time  mean_score_time  std_score_time   param_C  \\\n2     539.761316     12.990654         1.414075        0.031180  0.031623   \n3    1924.483413     13.344670         1.189416        0.087414  1.778279   \n4    2291.973409     94.544122         0.809129        0.114329     100.0   \n1     146.292090      7.708400         1.486314        0.009537  0.000562   \n0     115.905974      1.056549         1.418416        0.042932   0.00001   \n\n                         params  split0_test_score  split1_test_score  \\\n2    {'C': 0.03162277660168379}           0.600692           0.601333   \n3     {'C': 1.7782794100389228}           0.559065           0.559444   \n4                  {'C': 100.0}           0.526994           0.527645   \n1  {'C': 0.0005623413251903491}           0.518797           0.518540   \n0                  {'C': 1e-05}           0.362953           0.363960   \n\n   mean_test_score  std_test_score  rank_test_score  \n2         0.601012        0.000321                1  \n3         0.559254        0.000189                2  \n4         0.527320        0.000326                3  \n1         0.518668        0.000129                4  \n0         0.363457        0.000504                5  ",
      "text/html": "<div>\n<style scoped>\n    .dataframe tbody tr th:only-of-type {\n        vertical-align: middle;\n    }\n\n    .dataframe tbody tr th {\n        vertical-align: top;\n    }\n\n    .dataframe thead th {\n        text-align: right;\n    }\n</style>\n<table border=\"1\" class=\"dataframe\">\n  <thead>\n    <tr style=\"text-align: right;\">\n      <th></th>\n      <th>mean_fit_time</th>\n      <th>std_fit_time</th>\n      <th>mean_score_time</th>\n      <th>std_score_time</th>\n      <th>param_C</th>\n      <th>params</th>\n      <th>split0_test_score</th>\n      <th>split1_test_score</th>\n      <th>mean_test_score</th>\n      <th>std_test_score</th>\n      <th>rank_test_score</th>\n    </tr>\n  </thead>\n  <tbody>\n    <tr>\n      <th>2</th>\n      <td>539.761316</td>\n      <td>12.990654</td>\n      <td>1.414075</td>\n      <td>0.031180</td>\n      <td>0.031623</td>\n      <td>{'C': 0.03162277660168379}</td>\n      <td>0.600692</td>\n      <td>0.601333</td>\n      <td>0.601012</td>\n      <td>0.000321</td>\n      <td>1</td>\n    </tr>\n    <tr>\n      <th>3</th>\n      <td>1924.483413</td>\n      <td>13.344670</td>\n      <td>1.189416</td>\n      <td>0.087414</td>\n      <td>1.778279</td>\n      <td>{'C': 1.7782794100389228}</td>\n      <td>0.559065</td>\n      <td>0.559444</td>\n      <td>0.559254</td>\n      <td>0.000189</td>\n      <td>2</td>\n    </tr>\n    <tr>\n      <th>4</th>\n      <td>2291.973409</td>\n      <td>94.544122</td>\n      <td>0.809129</td>\n      <td>0.114329</td>\n      <td>100.0</td>\n      <td>{'C': 100.0}</td>\n      <td>0.526994</td>\n      <td>0.527645</td>\n      <td>0.527320</td>\n      <td>0.000326</td>\n      <td>3</td>\n    </tr>\n    <tr>\n      <th>1</th>\n      <td>146.292090</td>\n      <td>7.708400</td>\n      <td>1.486314</td>\n      <td>0.009537</td>\n      <td>0.000562</td>\n      <td>{'C': 0.0005623413251903491}</td>\n      <td>0.518797</td>\n      <td>0.518540</td>\n      <td>0.518668</td>\n      <td>0.000129</td>\n      <td>4</td>\n    </tr>\n    <tr>\n      <th>0</th>\n      <td>115.905974</td>\n      <td>1.056549</td>\n      <td>1.418416</td>\n      <td>0.042932</td>\n      <td>0.00001</td>\n      <td>{'C': 1e-05}</td>\n      <td>0.362953</td>\n      <td>0.363960</td>\n      <td>0.363457</td>\n      <td>0.000504</td>\n      <td>5</td>\n    </tr>\n  </tbody>\n</table>\n</div>"
     },
     "execution_count": 24,
     "metadata": {},
     "output_type": "execute_result"
    }
   ],
   "source": [
    "pd.DataFrame(clf.cv_results_).sort_values('rank_test_score')"
   ]
  }
 ],
 "metadata": {
  "kernelspec": {
   "display_name": "Python 3 (ipykernel)",
   "language": "python",
   "name": "python3"
  },
  "language_info": {
   "codemirror_mode": {
    "name": "ipython",
    "version": 3
   },
   "file_extension": ".py",
   "mimetype": "text/x-python",
   "name": "python",
   "nbconvert_exporter": "python",
   "pygments_lexer": "ipython3",
   "version": "3.9.2"
  }
 },
 "nbformat": 4,
 "nbformat_minor": 1
}